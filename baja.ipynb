{
 "cells": [
  {
   "cell_type": "code",
   "execution_count": null,
   "metadata": {},
   "outputs": [],
   "source": [
    "import pandas as pd\n",
    "from pathlib import Path\n",
    "import matplotlib.pyplot as plt\n",
    "import numpy as np"
   ]
  },
  {
   "cell_type": "code",
   "execution_count": null,
   "metadata": {},
   "outputs": [],
   "source": [
    "def clean_df(dataset,session,outing):\n",
    "    file = Path(dataset)\n",
    "    df = pd.read_csv(file,sep=',',encoding='utf_8',encoding_errors='ignore',skiprows=10)\n",
    "    df = df.drop(0,axis=0)\n",
    "    df_drop = df.drop(labels=['PPS','gpsTime','numSVsTracked','gpsPosMode','gpsVelMode',\n",
    "                              'gpsOrientMode','HDOP','PDOP','engineSpeed','altitude','vNorth','vEast','vUp','vxCG','vyCG','vzCG',\n",
    "                              'rollRate','pitchRate','yawRate','posAccuracy_north','posAccuracy_east','posAccuracy_down',\t\n",
    "                              'velAccuracy_north','velAccuracy_east','velAccuracy_down','orientAccuracy_heading','orientAccuracy_pitch',\n",
    "                              'orientAccuracy_roll','chassisAccelFL','chassisAccelFR','chassisAccelRL','chassisAccelRR'\t,\n",
    "                              'deflectionFL','deflectionFR','deflectionRR','wheelAccelFL','wheelAccelFR','wheelAccelRL','wheelAccelRR'],axis=1)\n",
    "    df_drop['time'] = df_drop['time'].astype(float).round(3)\n",
    "    df_drop['horizontalSpeed'] = df_drop['horizontalSpeed'].astype(float)\n",
    "    df_clean =  df_drop.drop(df_drop[df_drop.horizontalSpeed < 0.5].index)\n",
    "    df_clean = df_clean.reset_index()\n",
    "    df_clean = df_clean.drop(labels=['index'],axis=1)\n",
    "    df_clean['session'] = session\n",
    "    df_clean['outing'] = outing\n",
    "    \n",
    "    to_del = []\n",
    "    n_rows = df_clean.shape[0]\n",
    "    \n",
    "    for i in range(n_rows):\n",
    "        target = df_clean.iloc[i]['time']\n",
    "        #print(target)\n",
    "        target_test = str((target/0.01).round(1))\n",
    "    \n",
    "        if target_test[-1] == '0' or target_test[-1]=='5':\n",
    "            pass\n",
    "        else:\n",
    "            to_del.append(i)\n",
    "            \n",
    "    df_clean = df_clean.drop(to_del, axis=0, inplace=False)\n",
    "    df_clean = df_clean.reset_index(drop=True)\n",
    "    # df_clean = df_clean.T.reset_index(drop=True).T\n",
    "    \n",
    "    return df_clean\n",
    "    \n"
   ]
  },
  {
   "cell_type": "code",
   "execution_count": null,
   "metadata": {},
   "outputs": [],
   "source": [
    "df1 = clean_df('./dataset/20140221_01_01_03_250lm.csv',1,1)\n",
    "df1"
   ]
  },
  {
   "cell_type": "code",
   "execution_count": null,
   "metadata": {},
   "outputs": [],
   "source": [
    "df2 = clean_df('./dataset/20140221_01_02_03_250lm.csv',1,2)\n",
    "df2"
   ]
  },
  {
   "cell_type": "code",
   "execution_count": null,
   "metadata": {},
   "outputs": [],
   "source": [
    "df3 = clean_df('./dataset/20140221_02_01_03_250lm.csv',2,1)\n",
    "df3"
   ]
  },
  {
   "cell_type": "code",
   "execution_count": null,
   "metadata": {},
   "outputs": [],
   "source": [
    "df4 = clean_df('./dataset/20140221_03_01_03_250lm.csv',3,1)\n",
    "df4"
   ]
  },
  {
   "cell_type": "code",
   "execution_count": null,
   "metadata": {},
   "outputs": [],
   "source": [
    "df_main = pd.merge(df1,df2,how=\"outer\")\n",
    "df_main = pd.merge(df_main,df3,how=\"outer\")\n",
    "df_main = pd.merge(df_main,df4,how=\"outer\")\n",
    "df_main"
   ]
  },
  {
   "cell_type": "code",
   "execution_count": null,
   "metadata": {},
   "outputs": [],
   "source": [
    "\n",
    "df_main.to_csv('total_file2.csv')"
   ]
  },
  {
   "cell_type": "code",
   "execution_count": null,
   "metadata": {},
   "outputs": [],
   "source": [
    "plt. figure(figsize=(25 , 90))\n",
    "plt.scatter(df_main['longitude'],df_main['latitude'],s=0.04)\n",
    "\n",
    "\n",
    "plt.show"
   ]
  },
  {
   "cell_type": "code",
   "execution_count": null,
   "metadata": {},
   "outputs": [],
   "source": [
    "from sklearn.cluster import KMeans\n",
    "\n",
    "data = list(zip(df_main['longitude'], df_main['latitude']))\n",
    "\n",
    "kmeans = KMeans(n_clusters=65,random_state=10)\n",
    "kmeans.fit(data)\n",
    "y_kmeans = kmeans.predict(data)\n",
    "\n",
    "plt.figure(figsize=(25 , 90))\n",
    "centers = kmeans.cluster_centers_\n",
    "y_kmeans = kmeans.predict(centers)\n",
    "print(y_kmeans)\n",
    "\n",
    "for i in range(len(centers)):\n",
    "    plt.text(centers[i, 0], centers[i, 1], y_kmeans[i], fontsize = 30, color = 'r')\n",
    "\n",
    "plt.scatter(df_main['longitude'],df_main['latitude'],s=0.05, c=kmeans.labels_)\n",
    "plt.scatter(centers[:, 0], centers[:, 1], c='black', s=500)\n",
    "\n",
    "plt.show()"
   ]
  },
  {
   "cell_type": "code",
   "execution_count": null,
   "metadata": {},
   "outputs": [],
   "source": [
    "df_main['CLASS'] = pd.Series(kmeans.labels_,index = df_main.index)\n",
    "\n",
    "df_main"
   ]
  },
  {
   "cell_type": "code",
   "execution_count": null,
   "metadata": {},
   "outputs": [],
   "source": [
    "df_main.to_csv('teste.csv')"
   ]
  },
  {
   "cell_type": "code",
   "execution_count": null,
   "metadata": {},
   "outputs": [],
   "source": [
    "df_main = pd.read_csv('teste.csv')"
   ]
  },
  {
   "cell_type": "code",
   "execution_count": null,
   "metadata": {},
   "outputs": [],
   "source": [
    "classe_00 = [56,14,27,2,40,25,12]\n",
    "classe_01 = [24,8]\n",
    "classe_02 = [60,29,17]\n",
    "classe_03 = [64,22,55,49]\n",
    "classe_04 = [10,47,30,7,33,19,53]\n",
    "classe_05 = [20,63,39,36,43,5,42,18]\n",
    "classe_06 = [26,61,9]\n",
    "classe_07 = [48,21]\n",
    "classe_08 = [50,3]\n",
    "classe_09 = [46,16,13,28]\n",
    "classe_10 = [59,32,1,58,45,4,37,44,51,52,34,41,57,6,54]\n",
    "classe_11 = [23,0,38,15,62,31]\n",
    "classe_12 = [11,35]"
   ]
  },
  {
   "cell_type": "code",
   "execution_count": null,
   "metadata": {},
   "outputs": [],
   "source": [
    "df_main"
   ]
  },
  {
   "cell_type": "code",
   "execution_count": null,
   "metadata": {},
   "outputs": [],
   "source": [
    "n_rows = df_main.shape[0]\n",
    "print(n_rows)\n",
    "\n",
    "df_main['color'] = 'NULL'\n",
    "for i in range(n_rows):\n",
    "    print(i)\n",
    "    target = df_main.iloc[i]['CLASS']\n",
    "    if target in classe_00:\n",
    "        df_main.at[i,'CLASS'] = 0\n",
    "        df_main.at[i,'color'] = 'red'\n",
    "    elif target in classe_01:\n",
    "        df_main.at[i,'CLASS'] = 1\n",
    "        df_main.at[i,'color'] = 'green'\n",
    "    elif target in classe_02:\n",
    "        df_main.at[i,'CLASS'] = 2\n",
    "        df_main.at[i,'color'] = 'blue'\n",
    "    elif target in classe_03:\n",
    "        df_main.at[i,'CLASS'] = 3\n",
    "        df_main.at[i,'color'] = 'yellow'\n",
    "    elif target in classe_04:\n",
    "        df_main.at[i,'CLASS'] = 4\n",
    "        df_main.at[i,'color'] = 'red'\n",
    "    elif target in classe_05:\n",
    "        df_main.at[i,'CLASS'] = 5\n",
    "        df_main.at[i,'color'] = 'green'\n",
    "    elif target in classe_06:\n",
    "        df_main.at[i,'CLASS'] = 6\n",
    "        df_main.at[i,'color'] = 'blue'\n",
    "    elif target in classe_07:\n",
    "        df_main.at[i,'CLASS'] = 7\n",
    "        df_main.at[i,'color'] = 'yellow'\n",
    "    elif target in classe_08:\n",
    "        df_main.at[i,'CLASS'] = 8\n",
    "        df_main.at[i,'color'] = 'red'\n",
    "    elif target in classe_09:\n",
    "        df_main.at[i,'CLASS'] = 9\n",
    "        df_main.at[i,'color'] = 'green'\n",
    "    elif target in classe_10:\n",
    "        df_main.at[i,'CLASS'] = 10\n",
    "        df_main.at[i,'color'] = 'blue'\n",
    "    elif target in classe_11:\n",
    "        df_main.at[i,'CLASS'] = 11\n",
    "        df_main.at[i,'color'] = 'yellow'\n",
    "    elif target in classe_12:\n",
    "        df_main.at[i,'CLASS'] = 12\n",
    "        df_main.at[i,'color'] = 'green'\n",
    "    "
   ]
  },
  {
   "cell_type": "code",
   "execution_count": null,
   "metadata": {},
   "outputs": [],
   "source": [
    "df_main = df_main.reset_index(drop=True)\n",
    "df_main.to_csv('teste2.csv')"
   ]
  },
  {
   "cell_type": "code",
   "execution_count": null,
   "metadata": {},
   "outputs": [],
   "source": [
    "plt.figure(figsize=(10 , 36))\n",
    "\n",
    "plt.scatter(df_main['longitude'],df_main['latitude'],s=0.05, c=df_main['color'])\n",
    "#plt.scatter(centers[:, 0], centers[:, 1], c='black', s=500)\n",
    "\n",
    "plt.show()"
   ]
  }
 ],
 "metadata": {
  "kernelspec": {
   "display_name": "Python 3.10.7 64-bit",
   "language": "python",
   "name": "python3"
  },
  "language_info": {
   "codemirror_mode": {
    "name": "ipython",
    "version": 3
   },
   "file_extension": ".py",
   "mimetype": "text/x-python",
   "name": "python",
   "nbconvert_exporter": "python",
   "pygments_lexer": "ipython3",
   "version": "3.10.7"
  },
  "orig_nbformat": 4,
  "vscode": {
   "interpreter": {
    "hash": "26de051ba29f2982a8de78e945f0abaf191376122a1563185a90213a26c5da77"
   }
  }
 },
 "nbformat": 4,
 "nbformat_minor": 2
}
