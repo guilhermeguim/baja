{
 "cells": [
  {
   "cell_type": "code",
   "execution_count": null,
   "metadata": {},
   "outputs": [],
   "source": [
    "import pandas as pd\n",
    "from pathlib import Path\n",
    "import matplotlib.pyplot as plt\n",
    "import numpy as np"
   ]
  },
  {
   "cell_type": "code",
   "execution_count": null,
   "metadata": {},
   "outputs": [],
   "source": [
    "df_main = pd.read_csv('teste4.csv')\n",
    "df_main\n"
   ]
  },
  {
   "cell_type": "code",
   "execution_count": null,
   "metadata": {},
   "outputs": [],
   "source": [
    "laps = df_main['lap'].unique()\n",
    "laps"
   ]
  },
  {
   "cell_type": "code",
   "execution_count": null,
   "metadata": {},
   "outputs": [],
   "source": [
    "from numpy import NaN\n",
    "\n",
    "dist_time = pd.DataFrame()\n",
    "\n",
    "dist_time['lap'] = NaN\n",
    "dist_time['min_dist'] = NaN\n",
    "dist_time['max_dist'] = NaN\n",
    "dist_time['min_time'] = NaN\n",
    "dist_time['max_time'] = NaN\n",
    "dist_time['total_distance'] = NaN\n",
    "dist_time['total_time'] = NaN\n",
    "\n",
    "\n",
    "for i in range(len(laps)):\n",
    "    df_temp = df_main[df_main['lap'] == laps[i]]\n",
    "    dist_time.at[i,'lap'] = laps[i]\n",
    "    dist_time.at[i,'min_dist'] = df_temp['distance'].min()\n",
    "    dist_time.at[i,'max_dist'] = df_temp['distance'].max()\n",
    "    dist_time.at[i,'min_time'] = df_temp['time'].min()\n",
    "    dist_time.at[i,'max_time'] = df_temp['time'].max()\n",
    "    dist_time.at[i,'total_distance'] = df_temp['distance'].max() - df_temp['distance'].min()\n",
    "    dist_time.at[i,'total_time'] = df_temp['time'].max() - df_temp['time'].min()\n",
    "    \n",
    "dist_time"
   ]
  }
 ],
 "metadata": {
  "kernelspec": {
   "display_name": "Python 3.10.7 64-bit",
   "language": "python",
   "name": "python3"
  },
  "language_info": {
   "codemirror_mode": {
    "name": "ipython",
    "version": 3
   },
   "file_extension": ".py",
   "mimetype": "text/x-python",
   "name": "python",
   "nbconvert_exporter": "python",
   "pygments_lexer": "ipython3",
   "version": "3.10.7"
  },
  "orig_nbformat": 4,
  "vscode": {
   "interpreter": {
    "hash": "26de051ba29f2982a8de78e945f0abaf191376122a1563185a90213a26c5da77"
   }
  }
 },
 "nbformat": 4,
 "nbformat_minor": 2
}
