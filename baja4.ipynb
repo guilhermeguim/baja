{
 "cells": [
  {
   "cell_type": "code",
   "execution_count": null,
   "metadata": {},
   "outputs": [],
   "source": [
    "import pandas as pd\n",
    "from pathlib import Path\n",
    "import matplotlib.pyplot as plt\n",
    "import numpy as np"
   ]
  },
  {
   "cell_type": "code",
   "execution_count": null,
   "metadata": {},
   "outputs": [],
   "source": [
    "df_main = pd.read_csv('teste4.csv')\n",
    "df_main\n"
   ]
  },
  {
   "cell_type": "code",
   "execution_count": null,
   "metadata": {},
   "outputs": [],
   "source": [
    "laps = df_main['lap'].unique()\n",
    "laps"
   ]
  },
  {
   "cell_type": "code",
   "execution_count": null,
   "metadata": {},
   "outputs": [],
   "source": [
    "regions = df_main['CLASS'].unique()\n",
    "regions"
   ]
  },
  {
   "cell_type": "code",
   "execution_count": null,
   "metadata": {},
   "outputs": [],
   "source": [
    "from dis import dis\n",
    "from numpy import NaN\n",
    "\n",
    "dist_time = pd.DataFrame()\n",
    "\n",
    "dist_time['lap'] = NaN\n",
    "dist_time['total_distance'] = NaN\n",
    "dist_time['total_time'] = NaN\n",
    "dist_time['max_speed'] = NaN\n",
    "dist_time['min_speed'] = NaN\n",
    "dist_time['average_speed'] = NaN\n",
    "\n",
    "for i in range(len(laps)):\n",
    "    df_temp = df_main[df_main['lap'] == laps[i]]\n",
    "    dist_time.at[i,'lap'] = str(laps[i])\n",
    "    # dist_time.at[i,'min_dist'] = df_temp['distance'].min()\n",
    "    # dist_time.at[i,'max_dist'] = df_temp['distance'].max()\n",
    "    # dist_time.at[i,'min_time'] = df_temp['time'].min()\n",
    "    # dist_time.at[i,'max_time'] = df_temp['time'].max()\n",
    "    dist_time.at[i,'total_distance'] = df_temp['distance'].max() - df_temp['distance'].min()\n",
    "    dist_time.at[i,'total_time'] = df_temp['time'].max() - df_temp['time'].min()\n",
    "    dist_time.at[i,'max_speed'] = df_temp['horizontalSpeed'].max()\n",
    "    dist_time.at[i,'min_speed'] = df_temp['horizontalSpeed'].min()\n",
    "    dist_time.at[i,'average_speed'] = df_temp['horizontalSpeed'].mean()\n",
    "    for region in regions:\n",
    "        df_temp1 = df_temp[df_temp['CLASS'] == region]\n",
    "        string1= str(region)+'_max_speed'\n",
    "        string2= str(region)+'_min_speed'\n",
    "        string3= str(region)+'_avg_speed'\n",
    "        string4= str(region)+'_distance'\n",
    "        string5= str(region)+'_time'\n",
    "        dist_time.at[i,string1] = df_temp1['horizontalSpeed'].max()\n",
    "        dist_time.at[i,string2] = df_temp1['horizontalSpeed'].min()\n",
    "        dist_time.at[i,string3] = df_temp1['horizontalSpeed'].mean()   \n",
    "        dist_time.at[i,string4] = df_temp1['distance'].max() - df_temp1['distance'].min()\n",
    "        dist_time.at[i,string5] = df_temp1['time'].max() - df_temp1['time'].min()\n",
    "        \n",
    "dist_time"
   ]
  },
  {
   "cell_type": "code",
   "execution_count": null,
   "metadata": {},
   "outputs": [],
   "source": [
    "df = dist_time.corr()\n",
    "df"
   ]
  },
  {
   "cell_type": "code",
   "execution_count": null,
   "metadata": {},
   "outputs": [],
   "source": [
    "df2 = df.loc[['total_distance','total_time','average_speed']]\n",
    "df2   "
   ]
  },
  {
   "cell_type": "code",
   "execution_count": null,
   "metadata": {},
   "outputs": [],
   "source": [
    "import seaborn as sns\n",
    "plt.subplots(figsize=(20,5))\n",
    "sns.heatmap(df2)"
   ]
  },
  {
   "cell_type": "code",
   "execution_count": null,
   "metadata": {},
   "outputs": [],
   "source": []
  },
  {
   "cell_type": "code",
   "execution_count": null,
   "metadata": {},
   "outputs": [],
   "source": [
    "dist_time.to_csv('teste5.csv')"
   ]
  }
 ],
 "metadata": {
  "kernelspec": {
   "display_name": "Python 3.10.7 64-bit",
   "language": "python",
   "name": "python3"
  },
  "language_info": {
   "codemirror_mode": {
    "name": "ipython",
    "version": 3
   },
   "file_extension": ".py",
   "mimetype": "text/x-python",
   "name": "python",
   "nbconvert_exporter": "python",
   "pygments_lexer": "ipython3",
   "version": "3.10.7"
  },
  "orig_nbformat": 4,
  "vscode": {
   "interpreter": {
    "hash": "26de051ba29f2982a8de78e945f0abaf191376122a1563185a90213a26c5da77"
   }
  }
 },
 "nbformat": 4,
 "nbformat_minor": 2
}
