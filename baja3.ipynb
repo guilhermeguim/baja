{
 "cells": [
  {
   "cell_type": "code",
   "execution_count": null,
   "metadata": {},
   "outputs": [],
   "source": [
    "import pandas as pd\n",
    "from pathlib import Path\n",
    "import matplotlib.pyplot as plt\n",
    "import numpy as np"
   ]
  },
  {
   "cell_type": "code",
   "execution_count": null,
   "metadata": {},
   "outputs": [],
   "source": [
    "df_main = pd.read_csv('teste3.csv')\n",
    "df_main\n"
   ]
  },
  {
   "cell_type": "code",
   "execution_count": null,
   "metadata": {},
   "outputs": [],
   "source": [
    "df_main = df_main.drop(labels=['Unnamed: 0'],axis=1)\n",
    "df_main"
   ]
  },
  {
   "cell_type": "code",
   "execution_count": null,
   "metadata": {},
   "outputs": [],
   "source": [
    "df_temp1 = df_main[df_main['session'] == 1]#.unique()\n",
    "df_temp1 = df_temp1[df_temp1['outing'] == 1]\n",
    "df_temp1\n",
    "df_temp1['lap'].unique()"
   ]
  },
  {
   "cell_type": "code",
   "execution_count": null,
   "metadata": {},
   "outputs": [],
   "source": [
    "df_temp1 = df_temp1[df_temp1['lap'] != 1]\n",
    "df_temp1 = df_temp1[df_temp1['lap'] != 2]\n",
    "df_temp1 = df_temp1[df_temp1['lap'] != 3]\n",
    "df_temp1"
   ]
  },
  {
   "cell_type": "code",
   "execution_count": null,
   "metadata": {},
   "outputs": [],
   "source": [
    "df_temp2 = df_main[df_main['session'] == 1]#.unique()\n",
    "df_temp2 = df_temp2[df_temp2['outing'] == 2]\n",
    "df_temp2\n",
    "df_temp2['lap'].unique()"
   ]
  },
  {
   "cell_type": "code",
   "execution_count": null,
   "metadata": {},
   "outputs": [],
   "source": [
    "df_temp2 = df_temp2[df_temp2['lap'] != 3]\n",
    "df_temp2 = df_temp2[df_temp2['lap'] != 6]\n",
    "df_temp2 = df_temp2[df_temp2['lap'] != 7]\n",
    "df_temp2"
   ]
  },
  {
   "cell_type": "code",
   "execution_count": null,
   "metadata": {},
   "outputs": [],
   "source": [
    "df_temp3 = df_main[df_main['session'] == 2]#.unique()\n",
    "df_temp3 = df_temp3[df_temp3['outing'] == 1]\n",
    "df_temp3\n",
    "df_temp3['lap'].unique()\n"
   ]
  },
  {
   "cell_type": "code",
   "execution_count": null,
   "metadata": {},
   "outputs": [],
   "source": [
    "df_temp3 = df_temp3[df_temp3['lap'] != 7]\n",
    "df_temp3 = df_temp3[df_temp3['lap'] != 12]\n",
    "df_temp3 = df_temp3[df_temp3['lap'] != 13]\n",
    "df_temp3"
   ]
  },
  {
   "cell_type": "code",
   "execution_count": null,
   "metadata": {},
   "outputs": [],
   "source": [
    "df_temp4 = df_main[df_main['session'] == 3]#.unique()\n",
    "df_temp4 = df_temp4[df_temp4['outing'] == 1]\n",
    "df_temp4\n",
    "df_temp4['lap'].unique()"
   ]
  },
  {
   "cell_type": "code",
   "execution_count": null,
   "metadata": {},
   "outputs": [],
   "source": [
    "df_temp4 = df_temp4[df_temp4['lap'] != 13]\n",
    "df_temp4 = df_temp4[df_temp4['lap'] != 14]\n",
    "df_temp4 = df_temp4[df_temp4['lap'] != 15]\n",
    "df_temp4"
   ]
  },
  {
   "cell_type": "code",
   "execution_count": null,
   "metadata": {},
   "outputs": [],
   "source": [
    "df_main = pd.DataFrame()\n",
    "df_main = pd.merge(df_temp1,df_temp2,how=\"outer\")\n",
    "df_main = pd.merge(df_main,df_temp3,how=\"outer\")\n",
    "df_main = pd.merge(df_main,df_temp4,how=\"outer\")\n",
    "df_main"
   ]
  },
  {
   "cell_type": "code",
   "execution_count": null,
   "metadata": {},
   "outputs": [],
   "source": [
    "plt.figure(figsize=(10 , 36))\n",
    "plt.scatter(df_main['longitude'],df_main['latitude'],s=0.05, c=df_main['lap'])\n",
    "#plt.scatter(centers[:, 0], centers[:, 1], c='black', s=500)\n",
    "\n",
    "plt.show()"
   ]
  },
  {
   "cell_type": "code",
   "execution_count": null,
   "metadata": {},
   "outputs": [],
   "source": [
    "df_main.to_csv('teste4-1.csv',sep=';')"
   ]
  }
 ],
 "metadata": {
  "kernelspec": {
   "display_name": "Python 3.10.4 64-bit",
   "language": "python",
   "name": "python3"
  },
  "language_info": {
   "codemirror_mode": {
    "name": "ipython",
    "version": 3
   },
   "file_extension": ".py",
   "mimetype": "text/x-python",
   "name": "python",
   "nbconvert_exporter": "python",
   "pygments_lexer": "ipython3",
   "version": "3.10.4"
  },
  "orig_nbformat": 4,
  "vscode": {
   "interpreter": {
    "hash": "258ecc3f114409d41cc595c4e29ef19f10ac7c155335d8702fbf20a0e9443e1e"
   }
  }
 },
 "nbformat": 4,
 "nbformat_minor": 2
}
