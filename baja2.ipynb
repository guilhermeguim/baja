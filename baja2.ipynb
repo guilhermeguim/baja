{
 "cells": [
  {
   "cell_type": "code",
   "execution_count": null,
   "metadata": {},
   "outputs": [],
   "source": [
    "import pandas as pd\n",
    "from pathlib import Path\n",
    "import matplotlib.pyplot as plt\n",
    "import numpy as np"
   ]
  },
  {
   "cell_type": "code",
   "execution_count": null,
   "metadata": {},
   "outputs": [],
   "source": [
    "df_main = pd.read_csv('teste2.csv')\n",
    "df_main"
   ]
  },
  {
   "cell_type": "code",
   "execution_count": null,
   "metadata": {},
   "outputs": [],
   "source": [
    "n_rows = df_main.shape[0]\n",
    "print(n_rows)\n",
    "\n",
    "df_main['lap'] = 'NULL'\n",
    "\n",
    "n_lap = 0\n",
    "\n",
    "for i in range(n_rows):\n",
    "    print(i)\n",
    "    target = df_main.iloc[i]['CLASS']\n",
    "    if i == 0:\n",
    "        n_lap = n_lap + 1\n",
    "        df_main.at[i,'lap'] = n_lap\n",
    "    else:\n",
    "        if target == 0 and target != df_main.iloc[i-1]['CLASS']:\n",
    "            n_lap = n_lap + 1\n",
    "            df_main.at[i,'lap'] = n_lap\n",
    "        else:\n",
    "            df_main.at[i,'lap'] = n_lap\n",
    "            \n",
    "df_main"
   ]
  },
  {
   "cell_type": "code",
   "execution_count": null,
   "metadata": {},
   "outputs": [],
   "source": [
    "df_main = df_main.drop(labels=['Unnamed: 0.1','Unnamed: 0'],axis=1)\n",
    "df_main"
   ]
  },
  {
   "cell_type": "code",
   "execution_count": null,
   "metadata": {},
   "outputs": [],
   "source": [
    "df_main.to_csv('teste3.csv')"
   ]
  },
  {
   "cell_type": "code",
   "execution_count": null,
   "metadata": {},
   "outputs": [],
   "source": [
    "plt.figure(figsize=(10 , 36))\n",
    "plt.scatter(df_main['longitude'],df_main['latitude'],s=0.05, c=df_main['lap'])\n",
    "#plt.scatter(centers[:, 0], centers[:, 1], c='black', s=500)\n",
    "\n",
    "plt.show()"
   ]
  }
 ],
 "metadata": {
  "kernelspec": {
   "display_name": "Python 3.10.7 64-bit",
   "language": "python",
   "name": "python3"
  },
  "language_info": {
   "codemirror_mode": {
    "name": "ipython",
    "version": 3
   },
   "file_extension": ".py",
   "mimetype": "text/x-python",
   "name": "python",
   "nbconvert_exporter": "python",
   "pygments_lexer": "ipython3",
   "version": "3.10.7"
  },
  "orig_nbformat": 4,
  "vscode": {
   "interpreter": {
    "hash": "26de051ba29f2982a8de78e945f0abaf191376122a1563185a90213a26c5da77"
   }
  }
 },
 "nbformat": 4,
 "nbformat_minor": 2
}
